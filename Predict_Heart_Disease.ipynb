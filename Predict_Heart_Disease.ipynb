{
  "nbformat": 4,
  "nbformat_minor": 0,
  "metadata": {
    "colab": {
      "provenance": [],
      "authorship_tag": "ABX9TyPdjKQhDCXqtx+AptIYx0MZ",
      "include_colab_link": true
    },
    "kernelspec": {
      "name": "python3",
      "display_name": "Python 3"
    },
    "language_info": {
      "name": "python"
    }
  },
  "cells": [
    {
      "cell_type": "markdown",
      "metadata": {
        "id": "view-in-github",
        "colab_type": "text"
      },
      "source": [
        "<a href=\"https://colab.research.google.com/github/TenofJiwon/Python/blob/main/Predict_Heart_Disease.ipynb\" target=\"_parent\"><img src=\"https://colab.research.google.com/assets/colab-badge.svg\" alt=\"Open In Colab\"/></a>"
      ]
    },
    {
      "cell_type": "code",
      "source": [
        "#1_MissingValue\n",
        "from keras.models import Sequential, load_model\n",
        "from keras.layers import Dense,Dropout\n",
        "from keras.callbacks import ModelCheckpoint, EarlyStopping\n",
        "from sklearn.model_selection import train_test_split\n",
        "import tensorflow as tf\n",
        "import os\n",
        "import numpy as np\n",
        "import pandas as pd\n",
        "import matplotlib.pyplot as plt\n",
        "\n",
        "np.random.seed(3)\n",
        "tf.random.set_seed(3)\n",
        "\n",
        "targetURL='https://raw.githubusercontent.com/TenofJiwon/study/main/heart%20disease%20classification%20dataset.csv'\n",
        "df = pd.read_csv(targetURL)\n",
        "\n",
        "df=df.replace({'yes':1, 'no':0})\n",
        "df=pd.get_dummies(df, columns=['sex'])\n",
        "col1=df.columns[-2:].to_list()\n",
        "col2=df.columns[1:-2].to_list()\n",
        "new_col=col1+col2\n",
        "df=df[new_col]\n",
        "\n",
        "print(df.isnull().sum().sort_values(ascending=False).head(4))\n",
        "df=df.fillna(df.mean())\n",
        "\n",
        "standardization_df = ((df - df.mean()) / df.std())\n",
        "\n",
        "x=standardization_df.iloc[:,:14]\n",
        "y=df.iloc[:,14]\n",
        "\n",
        "x_train, x_test, y_train, y_test = train_test_split(x, y, test_size=0.1, shuffle=True)\n",
        "\n",
        "model = Sequential()\n",
        "model.add(Dense(24, input_dim=14, activation='relu'))\n",
        "model.add(Dense(20, activation='selu'))\n",
        "model.add(Dense(10,activation='tanh'))\n",
        "model.add(Dropout(0.4))\n",
        "model.add(Dense(1, activation='sigmoid'))\n",
        "\n",
        "model.compile(loss='binary_crossentropy', optimizer='adam', metrics=['accuracy'])\n",
        "\n",
        "early_stopping_callback=EarlyStopping(monitor='val_accuracy', patience=20)\n",
        "\n",
        "modelpath=\"./data/model/all/{epoch:02d}-{val_accuracy:4f}.hdf5\"\n",
        "checkpointer=ModelCheckpoint(filepath=modelpath, monitor='val_accuracy', verbose=0, save_best_only=True)\n",
        "\n",
        "score=model.evaluate(x_test,y_test)\n",
        "print('Test Accuracy', score[1])\n",
        "\n",
        "history=model.fit(x_train, y_train, epochs=200, batch_size=10, verbose=0, validation_split=0.2)\n",
        "hist_df=pd.DataFrame(history.history)\n",
        "\n",
        "y_vaccuracy=hist_df['val_accuracy']\n",
        "y_accuracy=hist_df['accuracy']\n",
        "\n",
        "x_len=np.arange(len(y_accuracy))\n",
        "plt.plot(x_len, y_vaccuracy, \".\", c=\"violet\", label='Testset_accuracy')\n",
        "plt.plot(x_len, y_accuracy, \".\", c=\"blue\", label='Trainset_accuracy')\n",
        "\n",
        "plt.legend(loc='upper right')\n",
        "plt.xlabel('epoch')\n",
        "plt.ylabel('accuracy')\n",
        "plt.show()"
      ],
      "metadata": {
        "colab": {
          "base_uri": "https://localhost:8080/",
          "height": 406
        },
        "id": "mNjq3SJWvPbQ",
        "outputId": "747af6c6-76af-42ad-873d-7872dcd46514"
      },
      "execution_count": null,
      "outputs": [
        {
          "output_type": "stream",
          "name": "stdout",
          "text": [
            "thalach       5\n",
            "trestbps      4\n",
            "chol          1\n",
            "sex_female    0\n",
            "dtype: int64\n",
            "1/1 [==============================] - 0s 190ms/step - loss: 0.7016 - accuracy: 0.6774\n",
            "Test Accuracy 0.6774193644523621\n"
          ]
        },
        {
          "output_type": "display_data",
          "data": {
            "text/plain": [
              "<Figure size 432x288 with 1 Axes>"
            ],
            "image/png": "[encoded data removed]"
          },
          "metadata": {
            "needs_background": "light"
          }
        }
      ]
    },
    {
      "cell_type": "code",
      "source": [
        "#2_Kfold\n",
        "from keras.models import Sequential\n",
        "from keras.layers import Dense\n",
        "from sklearn.model_selection import KFold\n",
        "from sklearn.metrics import accuracy_score\n",
        "import numpy as np\n",
        "import pandas as pd\n",
        "\n",
        "np.random.seed(3)\n",
        "tf.random.set_seed(3)\n",
        "\n",
        "targetURL='https://raw.githubusercontent.com/TenofJiwon/study/main/heart%20disease%20classification%20dataset.csv'\n",
        "df = pd.read_csv(targetURL)\n",
        "\n",
        "df=df.replace({'yes':1, 'no':0})\n",
        "df=pd.get_dummies(df, columns=['sex'])\n",
        "col1=df.columns[-2:].to_list()\n",
        "col2=df.columns[1:-2].to_list()\n",
        "new_col=col1+col2\n",
        "df=df[new_col]\n",
        "\n",
        "df=df.fillna(df.mean())\n",
        "\n",
        "standardization_df = ((df - df.mean()) / df.std())\n",
        "\n",
        "x=np.array(standardization_df.iloc[:,:14])\n",
        "y=df.iloc[:,14]\n",
        "\n",
        "k=6\n",
        "kfold=KFold(n_splits=k, shuffle=True)\n",
        "\n",
        "acc_score=[]\n",
        "\n",
        "def model_fn():\n",
        "  model = Sequential()\n",
        "  model.add(Dense(24, input_dim=14, activation='selu'))\n",
        "  model.add(Dense(20, activation='selu'))\n",
        "  model.add(Dense(10, activation='tanh'))\n",
        "  model.add(Dense(1,activation='sigmoid'))\n",
        "  return model\n",
        "\n",
        "for train_index, test_index in kfold.split(x):\n",
        "  x_train, x_test = x[train_index], x[test_index]\n",
        "  y_train, y_test = y[train_index], y[test_index]\n",
        "\n",
        "  model=model_fn()\n",
        "  model.compile(loss='binary_crossentropy', optimizer='adam', metrics=['accuracy'])\n",
        "  history=model.fit(x_train, y_train, epochs=200, batch_size=10, verbose=0)\n",
        "\n",
        "  accuracy=model.evaluate(x_test, y_test)[1]\n",
        "  acc_score.append(accuracy)\n",
        "\n",
        "avg_acc_score=sum(acc_score)/k\n",
        "print('정확도:',acc_score)\n",
        "print('정확도 평균:', avg_acc_score)"
      ],
      "metadata": {
        "colab": {
          "base_uri": "https://localhost:8080/"
        },
        "id": "7jfJ9ZSGSSLU",
        "outputId": "92e72ba7-b40b-4cc9-fd5c-ac415199d0ce"
      },
      "execution_count": null,
      "outputs": [
        {
          "output_type": "stream",
          "name": "stdout",
          "text": [
            "2/2 [==============================] - 0s 5ms/step - loss: 0.3133 - accuracy: 0.9216\n",
            "2/2 [==============================] - 0s 6ms/step - loss: 0.4788 - accuracy: 0.8039\n",
            "2/2 [==============================] - 0s 7ms/step - loss: 0.6138 - accuracy: 0.8431\n",
            "2/2 [==============================] - 0s 8ms/step - loss: 0.7843 - accuracy: 0.8200\n",
            "2/2 [==============================] - 0s 9ms/step - loss: 1.1156 - accuracy: 0.7600\n",
            "2/2 [==============================] - 0s 6ms/step - loss: 0.8895 - accuracy: 0.7600\n",
            "정확도: [0.9215686321258545, 0.8039215803146362, 0.843137264251709, 0.8199999928474426, 0.7599999904632568, 0.7599999904632568]\n",
            "정확도 평균: 0.8181045750776926\n"
          ]
        }
      ]
    }
  ]
}