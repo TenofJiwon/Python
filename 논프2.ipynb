{
  "nbformat": 4,
  "nbformat_minor": 0,
  "metadata": {
    "colab": {
      "provenance": [],
      "collapsed_sections": [],
      "authorship_tag": "ABX9TyPb0AyYEYk7fdSJzTzhePat",
      "include_colab_link": true
    },
    "kernelspec": {
      "name": "python3",
      "display_name": "Python 3"
    },
    "language_info": {
      "name": "python"
    }
  },
  "cells": [
    {
      "cell_type": "markdown",
      "metadata": {
        "id": "view-in-github",
        "colab_type": "text"
      },
      "source": [
        "<a href=\"https://colab.research.google.com/github/TenofJiwon/Python/blob/main/%EB%85%BC%ED%94%842.ipynb\" target=\"_parent\"><img src=\"https://colab.research.google.com/assets/colab-badge.svg\" alt=\"Open In Colab\"/></a>"
      ]
    },
    {
      "cell_type": "code",
      "source": [
        "#Q1\n",
        "x=[int(input(\"자연수 한 개를 입력하세요:\"))]\n",
        "repeat = True\n",
        "\n",
        "while repeat:\n",
        "    y=int(input(\"계속 입력을 원하시면 자연수 한 개를 입력하시고, 아니라면 0을 입력하세요:\"))\n",
        "\n",
        "    x.append(y)\n",
        "\n",
        "    if len(x)>100:\n",
        "        print(\"이제 그만하세요. 충분히 많이 입력했어요.\")\n",
        "        repeat= False\n",
        "    if y==0 :\n",
        "        repeat=False\n",
        "        x.pop()\n",
        "\n",
        "for i in range(len(x)):\n",
        "    for j in range(i+1,len(x)):\n",
        "        if x[i]<=x[j]:\n",
        "            x[i],x[j]=x[j],x[i]\n",
        "print(\"당신이 입력한 숫자는 큰 것부터 순서대로 말한다면 아래와 같습니다.\")\n",
        "print(x)"
      ],
      "metadata": {
        "colab": {
          "base_uri": "https://localhost:8080/"
        },
        "id": "mgQazDNWzRNM",
        "outputId": "a22b335b-7c75-4d9c-b899-55b00eed6d6e"
      },
      "execution_count": null,
      "outputs": [
        {
          "output_type": "stream",
          "name": "stdout",
          "text": [
            "자연수 한 개를 입력하세요:56\n",
            "계속 입력을 원하시면 자연수 한 개를 입력하시고, 아니라면 0을 입력하세요:34\n",
            "계속 입력을 원하시면 자연수 한 개를 입력하시고, 아니라면 0을 입력하세요:7\n",
            "계속 입력을 원하시면 자연수 한 개를 입력하시고, 아니라면 0을 입력하세요:18\n",
            "계속 입력을 원하시면 자연수 한 개를 입력하시고, 아니라면 0을 입력하세요:9\n",
            "계속 입력을 원하시면 자연수 한 개를 입력하시고, 아니라면 0을 입력하세요:0\n",
            "당신이 입력한 숫자는 큰 것부터 순서대로 말한다면 아래와 같습니다.\n",
            "[56, 34, 18, 9, 7]\n"
          ]
        }
      ]
    },
    {
      "cell_type": "code",
      "source": [
        "#Q2\n",
        "x=int(input(\"숫자를 입력하세요:\"))\n",
        "if x>30:\n",
        "  print(\"숫자가 너무 큽니다.\")\n",
        "if x<=30:\n",
        "  a=0\n",
        "  while a<=x-1:\n",
        "    a+=1\n",
        "    star=\"*\"*(a-1)\n",
        "    answer=star+str(a)\n",
        "    print(answer)"
      ],
      "metadata": {
        "colab": {
          "base_uri": "https://localhost:8080/"
        },
        "id": "Pu3pE5dQ9PIv",
        "outputId": "45d56d94-2875-4cb9-bc80-b56ceb9f0d00"
      },
      "execution_count": 1,
      "outputs": [
        {
          "output_type": "stream",
          "name": "stdout",
          "text": [
            "숫자를 입력하세요:11\n",
            "1\n",
            "*2\n",
            "**3\n",
            "***4\n",
            "****5\n",
            "*****6\n",
            "******7\n",
            "*******8\n",
            "********9\n",
            "*********10\n",
            "**********11\n"
          ]
        }
      ]
    }
  ]
}