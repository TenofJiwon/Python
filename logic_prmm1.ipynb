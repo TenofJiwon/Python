{
  "nbformat": 4,
  "nbformat_minor": 0,
  "metadata": {
    "colab": {
      "provenance": [],
      "collapsed_sections": [],
      "authorship_tag": "ABX9TyOKiN1rMx1K70ZsgRw2koZY",
      "include_colab_link": true
    },
    "kernelspec": {
      "name": "python3",
      "display_name": "Python 3"
    },
    "language_info": {
      "name": "python"
    }
  },
  "cells": [
    {
      "cell_type": "markdown",
      "metadata": {
        "id": "view-in-github",
        "colab_type": "text"
      },
      "source": [
        "<a href=\"https://colab.research.google.com/github/TenofJiwon/Python/blob/main/%EB%85%BC%ED%94%84_%EA%B3%BC%EC%A0%9C_1.ipynb\" target=\"_parent\"><img src=\"https://colab.research.google.com/assets/colab-badge.svg\" alt=\"Open In Colab\"/></a>"
      ]
    },
    {
      "cell_type": "code",
      "execution_count": null,
      "metadata": {
        "colab": {
          "base_uri": "https://localhost:8080/"
        },
        "id": "n-uRGFy0dcVE",
        "outputId": "8edef3c8-919c-4867-f953-a45105a079ff"
      },
      "outputs": [
        {
          "output_type": "stream",
          "name": "stdout",
          "text": [
            "3\n"
          ]
        }
      ],
      "source": [
        "#202102169원지원\n",
        "a=1\n",
        "b=2\n",
        "print(a+b)"
      ]
    },
    {
      "cell_type": "code",
      "source": [
        "x=int(input(\"숫자를 입력하세요:\"))\n",
        "if x >= 30:\n",
        "    print(\"30이상인 수는 너무 큽니다.\")\n",
        "elif x < 30:\n",
        " for i in range(x): \n",
        "  for j in range(i+1): \n",
        "    print(j+1, end='')\n",
        "  print()"
      ],
      "metadata": {
        "id": "OloOkqvDe0sv",
        "colab": {
          "base_uri": "https://localhost:8080/"
        },
        "outputId": "30d12d97-6dae-4da5-bea4-4fa2ee1eb7d1"
      },
      "execution_count": null,
      "outputs": [
        {
          "output_type": "stream",
          "name": "stdout",
          "text": [
            "숫자를 입력하세요:8\n",
            "1\n",
            "12\n",
            "123\n",
            "1234\n",
            "12345\n",
            "123456\n",
            "1234567\n",
            "12345678\n"
          ]
        }
      ]
    },
    {
      "cell_type": "code",
      "source": [
        "x=input(\"숫자를 입력하세요:\")\n",
        "if x.isnumeric() == False :\n",
        "  print(\"정수로 입력하세요.\")\n",
        "elif x.isnumeric() == True :\n",
        "  if int(x)<30:\n",
        "    for i in range(int(x)):\n",
        "      for j in range(i+1):\n",
        "        print(j+1, end='')\n",
        "      print()\n",
        "  elif int(x)>=30:\n",
        "    print(\"30이상인 수는 너무 큽니다.\")"
      ],
      "metadata": {
        "colab": {
          "base_uri": "https://localhost:8080/"
        },
        "id": "G694qlYepSfK",
        "outputId": "3d46ebcb-bf6d-4209-cd93-bdeb97747851"
      },
      "execution_count": null,
      "outputs": [
        {
          "output_type": "stream",
          "name": "stdout",
          "text": [
            "숫자를 입력하세요:6.5\n",
            "정수로 입력하세요.\n"
          ]
        }
      ]
    }
  ]
}
