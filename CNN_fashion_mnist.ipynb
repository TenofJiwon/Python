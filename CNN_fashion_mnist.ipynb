{
  "nbformat": 4,
  "nbformat_minor": 0,
  "metadata": {
    "colab": {
      "provenance": [],
      "mount_file_id": "1poG4vamva59zMeokV3q8mG-7E1COBh6s",
      "authorship_tag": "ABX9TyP9MxglszkvsWwbZQBg2h9J",
      "include_colab_link": true
    },
    "kernelspec": {
      "name": "python3",
      "display_name": "Python 3"
    },
    "language_info": {
      "name": "python"
    }
  },
  "cells": [
    {
      "cell_type": "markdown",
      "metadata": {
        "id": "view-in-github",
        "colab_type": "text"
      },
      "source": [
        "<a href=\"https://colab.research.google.com/github/TenofJiwon/Python/blob/main/CNN_fashion_mnist.ipynb\" target=\"_parent\"><img src=\"https://colab.research.google.com/assets/colab-badge.svg\" alt=\"Open In Colab\"/></a>"
      ]
    },
    {
      "cell_type": "code",
      "execution_count": null,
      "metadata": {
        "id": "Pb5IjBuYdCjA"
      },
      "outputs": [],
      "source": [
        "#1 Fashion MNIST dataset\n",
        "from keras.models import Sequential\n",
        "from keras.layers import Dense, Dropout, Flatten, Conv2D, MaxPooling2D\n",
        "from keras.callbacks import ModelCheckpoint,EarlyStopping\n",
        "from keras.datasets import mnist\n",
        "from keras.utils import to_categorical\n",
        "import tensorflow as tf\n",
        "import matplotlib.pyplot as plt\n",
        "import numpy as np\n",
        "\n",
        "fashion_mnist = tf.keras.datasets.fashion_mnist\n",
        "(x_train, y_train), (x_test, y_test) = fashion_mnist.load_data()"
      ]
    },
    {
      "cell_type": "code",
      "source": [
        "type(x_train)"
      ],
      "metadata": {
        "colab": {
          "base_uri": "https://localhost:8080/"
        },
        "id": "eD7z4un7eGie",
        "outputId": "4c698dea-5595-4aee-b746-819b1e8ab226"
      },
      "execution_count": null,
      "outputs": [
        {
          "output_type": "execute_result",
          "data": {
            "text/plain": [
              "numpy.ndarray"
            ]
          },
          "metadata": {},
          "execution_count": 72
        }
      ]
    },
    {
      "cell_type": "code",
      "source": [
        "print(x_train.shape)"
      ],
      "metadata": {
        "colab": {
          "base_uri": "https://localhost:8080/"
        },
        "id": "nQ92lDgSeJtV",
        "outputId": "7fd14bce-4d7f-45fb-f655-f6cc5cff28ec"
      },
      "execution_count": null,
      "outputs": [
        {
          "output_type": "stream",
          "name": "stdout",
          "text": [
            "(60000, 28, 28)\n"
          ]
        }
      ]
    },
    {
      "cell_type": "code",
      "source": [
        "plt.imshow(x_train[1], cmap='Greys')"
      ],
      "metadata": {
        "colab": {
          "base_uri": "https://localhost:8080/",
          "height": 283
        },
        "id": "nt_90EINeOT0",
        "outputId": "063a892f-d8d0-4313-a07a-32005e80e48c"
      },
      "execution_count": null,
      "outputs": [
        {
          "output_type": "execute_result",
          "data": {
            "text/plain": [
              "<matplotlib.image.AxesImage at 0x7f9b1356b070>"
            ]
          },
          "metadata": {},
          "execution_count": 74
        },
        {
          "output_type": "display_data",
          "data": {
            "text/plain": [
              "<Figure size 432x288 with 1 Axes>"
            ],
            "image/png": "[encoded data removed]"
          },
          "metadata": {
            "needs_background": "light"
          }
        }
      ]
    },
    {
      "cell_type": "code",
      "source": [
        "import sys\n",
        "\n",
        "for x in x_train[1]:\n",
        "    for i in x:\n",
        "        sys.stdout.write(\"%-3s\" % i)\n",
        "    sys.stdout.write('\\n')"
      ],
      "metadata": {
        "colab": {
          "base_uri": "https://localhost:8080/"
        },
        "id": "f7XV71xiezce",
        "outputId": "41f227e2-1edf-445a-e0c0-0540b446fe12"
      },
      "execution_count": null,
      "outputs": [
        {
          "output_type": "stream",
          "name": "stdout",
          "text": [
            "0  0  0  0  0  1  0  0  0  0  41 18810354 48 43 87 16813316 0  0  0  0  0  0  0  0  \n",
            "0  0  0  1  0  0  0  49 13621921622823625525525525521721525423116045 0  0  0  0  0  \n",
            "0  0  0  0  0  14 1762222242122031981962002152042022012012012092182241640  0  0  0  \n",
            "0  0  0  0  0  18821920019820219819919920119619819820020020020020120022541 0  0  0  \n",
            "0  0  0  0  51 2191992032032122382482502452492462472522482352072032032221400  0  0  \n",
            "0  0  0  0  11622620620420720410175 47 73 48 50 45 51 63 1132222022062202240  0  0  \n",
            "0  0  0  0  2002222092032152000  70 98 0  10359 68 71 49 0  21920621421025038 0  0  \n",
            "0  0  0  0  2472182122102152140  2542431392551742512552050  21521721420822095 0  0  \n",
            "0  0  0  45 2262142142152242050  42 35 60 16 17 12 13 70 0  1892162122062121560  0  \n",
            "0  0  0  16423521421122021620152 71 89 94 83 78 70 76 92 87 2062072222132192080  0  \n",
            "0  0  0  1061872232372482111982522502482452482522532502522392012122252151931130  0  \n",
            "0  0  0  0  0  17 54 1592221932081921972002002002002012031952101650  0  0  0  0  0  \n",
            "0  0  0  0  0  0  0  47 2251922142032062042042052062042121972181070  0  0  0  0  0  \n",
            "0  0  0  0  1  6  0  46 21219521220220620520420520620421220021891 0  3  1  0  0  0  \n",
            "0  0  0  0  0  1  0  11 19719920520220520620420520720420520521877 0  5  0  0  0  0  \n",
            "0  0  0  0  0  3  0  2  19119820120520620520520620920619920921974 0  5  0  0  0  0  \n",
            "0  0  0  0  0  2  0  0  18819720020720720420720721020819820722172 0  4  0  0  0  0  \n",
            "0  0  0  0  0  2  0  0  21519820320620820520720721020820020222275 0  4  0  0  0  0  \n",
            "0  0  0  0  0  1  0  0  21219820920620920620820721120620519822180 0  3  0  0  0  0  \n",
            "0  0  0  0  0  1  0  0  20420120520820720521120521021020919522196 0  3  0  0  0  0  \n",
            "0  0  0  0  0  1  0  0  2022012052092072052132062102092101942171050  2  0  0  0  0  \n",
            "0  0  0  0  0  1  0  0  2042042052082072052152072102082111932131150  2  0  0  0  0  \n",
            "0  0  0  0  0  0  0  0  2042072072082062062152102102072121952101180  2  0  0  0  0  \n",
            "0  0  0  0  0  1  0  0  1982082082082042072122122102072111962071210  1  0  0  0  0  \n",
            "0  0  0  0  0  1  0  0  1982102072082062092132122112072101972071240  1  0  0  0  0  \n",
            "0  0  0  0  0  0  0  0  1722102032011992042072052042012051972061270  0  0  0  0  0  \n",
            "0  0  0  0  0  0  0  0  1882212142342362382442442442402432142241620  2  0  0  0  0  \n",
            "0  0  0  0  0  1  0  0  13914613013513513712512412512111911413076 0  0  0  0  0  0  \n"
          ]
        }
      ]
    },
    {
      "cell_type": "code",
      "source": [
        "x_train = x_train.reshape(x_train.shape[0], 28, 28, 1).astype('float32') / 255\n",
        "x_test = x_test.reshape(x_test.shape[0], 28, 28, 1).astype('float32') / 255\n",
        "y_train = to_categorical(y_train)\n",
        "y_test = to_categorical(y_test)"
      ],
      "metadata": {
        "id": "S3xvaAw9e61Y"
      },
      "execution_count": null,
      "outputs": []
    },
    {
      "cell_type": "code",
      "source": [
        "y_train[300]"
      ],
      "metadata": {
        "colab": {
          "base_uri": "https://localhost:8080/"
        },
        "id": "EfC6LESAhnKH",
        "outputId": "cf8b3b92-b8e5-47fa-c700-2e00758a6500"
      },
      "execution_count": null,
      "outputs": [
        {
          "output_type": "execute_result",
          "data": {
            "text/plain": [
              "array([0., 0., 0., 0., 0., 1., 0., 0., 0., 0.], dtype=float32)"
            ]
          },
          "metadata": {},
          "execution_count": 77
        }
      ]
    },
    {
      "cell_type": "code",
      "source": [
        "type(y_train)"
      ],
      "metadata": {
        "colab": {
          "base_uri": "https://localhost:8080/"
        },
        "id": "aOTGFvXahsAO",
        "outputId": "cb46b81e-2ecb-41ce-e1fc-e0511c6d934d"
      },
      "execution_count": null,
      "outputs": [
        {
          "output_type": "execute_result",
          "data": {
            "text/plain": [
              "numpy.ndarray"
            ]
          },
          "metadata": {},
          "execution_count": 78
        }
      ]
    },
    {
      "cell_type": "code",
      "source": [
        "model = Sequential()\n",
        "model.add(Conv2D(32, kernel_size=(5, 5), input_shape=(28, 28, 1), activation='relu'))\n",
        "model.add(Conv2D(64, (2, 2), activation='relu'))\n",
        "model.add(MaxPooling2D(pool_size=(2,2)))\n",
        "model.add(Dropout(0.25))\n",
        "model.add(Flatten())\n",
        "model.add(Dense(128,  activation='selu'))\n",
        "model.add(Dense(64, activation='elu'))\n",
        "model.add(Dropout(0.5))\n",
        "model.add(Dense(10, activation='softmax'))\n",
        "\n",
        "model.compile(loss='categorical_crossentropy',optimizer='adam',metrics=['accuracy'])\n",
        "modelpath=\"./data/model/MNIST_CNN.hdf5\"\n",
        "\n",
        "model_checkpointer = ModelCheckpoint(filepath=modelpath, monitor='val_loss', verbose=1, save_best_only=True)\n",
        "model_early_stopping = EarlyStopping(monitor='val_loss', patience=10)\n",
        "\n",
        "history = model.fit(x_train, y_train, validation_split=0.25, epochs=20, batch_size=200, verbose=0, callbacks = [model_early_stopping,model_checkpointer])\n",
        "\n",
        "print(\"\\n Test Accuracy: %.4f\" % (model.evaluate(x_test, y_test)[1]))"
      ],
      "metadata": {
        "colab": {
          "base_uri": "https://localhost:8080/"
        },
        "id": "ht3z4QtKhtTn",
        "outputId": "9f466a62-605b-4011-f472-1aa9f1d3375a"
      },
      "execution_count": null,
      "outputs": [
        {
          "output_type": "stream",
          "name": "stdout",
          "text": [
            "\n",
            "Epoch 1: val_loss improved from inf to 0.35367, saving model to ./data/model/MNIST_CNN.hdf5\n",
            "\n",
            "Epoch 2: val_loss improved from 0.35367 to 0.30038, saving model to ./data/model/MNIST_CNN.hdf5\n",
            "\n",
            "Epoch 3: val_loss improved from 0.30038 to 0.28834, saving model to ./data/model/MNIST_CNN.hdf5\n",
            "\n",
            "Epoch 4: val_loss improved from 0.28834 to 0.26811, saving model to ./data/model/MNIST_CNN.hdf5\n",
            "\n",
            "Epoch 5: val_loss improved from 0.26811 to 0.25456, saving model to ./data/model/MNIST_CNN.hdf5\n",
            "\n",
            "Epoch 6: val_loss improved from 0.25456 to 0.25044, saving model to ./data/model/MNIST_CNN.hdf5\n",
            "\n",
            "Epoch 7: val_loss improved from 0.25044 to 0.24527, saving model to ./data/model/MNIST_CNN.hdf5\n",
            "\n",
            "Epoch 8: val_loss improved from 0.24527 to 0.24335, saving model to ./data/model/MNIST_CNN.hdf5\n",
            "\n",
            "Epoch 9: val_loss improved from 0.24335 to 0.24091, saving model to ./data/model/MNIST_CNN.hdf5\n",
            "\n",
            "Epoch 10: val_loss did not improve from 0.24091\n",
            "\n",
            "Epoch 11: val_loss did not improve from 0.24091\n",
            "\n",
            "Epoch 12: val_loss did not improve from 0.24091\n",
            "\n",
            "Epoch 13: val_loss did not improve from 0.24091\n",
            "\n",
            "Epoch 14: val_loss did not improve from 0.24091\n",
            "\n",
            "Epoch 15: val_loss did not improve from 0.24091\n",
            "\n",
            "Epoch 16: val_loss did not improve from 0.24091\n",
            "\n",
            "Epoch 17: val_loss did not improve from 0.24091\n",
            "\n",
            "Epoch 18: val_loss did not improve from 0.24091\n",
            "\n",
            "Epoch 19: val_loss did not improve from 0.24091\n",
            "313/313 [==============================] - 4s 12ms/step - loss: 0.2823 - accuracy: 0.9129\n",
            "\n",
            " Test Accuracy: 0.9129\n"
          ]
        }
      ]
    },
    {
      "cell_type": "code",
      "source": [
        "y_vloss = history.history['val_loss']\n",
        "y_loss = history.history['loss']\n",
        "\n",
        "x_len = np.arange(len(y_loss))\n",
        "plt.plot(x_len, y_vloss, marker='.', c=\"red\", label='Test_set_loss')\n",
        "plt.plot(x_len, y_loss, marker='.', c=\"blue\", label='Train_set_loss')\n",
        "\n",
        "plt.legend(loc='upper right')\n",
        "plt.grid()\n",
        "plt.xlabel('epoch')\n",
        "plt.ylabel('loss')\n",
        "plt.show()"
      ],
      "metadata": {
        "colab": {
          "base_uri": "https://localhost:8080/",
          "height": 279
        },
        "id": "IZqq3z-OoESm",
        "outputId": "c72eccaf-20b3-4166-d335-e656a6438c90"
      },
      "execution_count": null,
      "outputs": [
        {
          "output_type": "display_data",
          "data": {
            "text/plain": [
              "<Figure size 432x288 with 1 Axes>"
            ],
            "image/png": "[encoded data removed]"
          },
          "metadata": {
            "needs_background": "light"
          }
        }
      ]
    }
  ]
}